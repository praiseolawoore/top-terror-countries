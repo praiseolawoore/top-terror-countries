{
 "cells": [
  {
   "cell_type": "markdown",
   "metadata": {},
   "source": [
    "# Analyzing the top terror country dataset"
   ]
  },
  {
   "cell_type": "code",
   "execution_count": 1,
   "metadata": {},
   "outputs": [],
   "source": [
    "# Importing the needed libraries\n",
    "import numpy as np\n",
    "import pandas as pd\n",
    "import matplotlib.pyplot as plt\n",
    "import seaborn as sns\n",
    "\n",
    "%matplotlib inline"
   ]
  },
  {
   "cell_type": "code",
   "execution_count": 2,
   "metadata": {},
   "outputs": [],
   "source": [
    "#Loading and reading the data\n",
    "\n",
    "data = pd.read_csv('./data/top_terror_countries.csv')"
   ]
  },
  {
   "cell_type": "code",
   "execution_count": 3,
   "metadata": {},
   "outputs": [
    {
     "data": {
      "text/html": [
       "<div>\n",
       "<style scoped>\n",
       "    .dataframe tbody tr th:only-of-type {\n",
       "        vertical-align: middle;\n",
       "    }\n",
       "\n",
       "    .dataframe tbody tr th {\n",
       "        vertical-align: top;\n",
       "    }\n",
       "\n",
       "    .dataframe thead th {\n",
       "        text-align: right;\n",
       "    }\n",
       "</style>\n",
       "<table border=\"1\" class=\"dataframe\">\n",
       "  <thead>\n",
       "    <tr style=\"text-align: right;\">\n",
       "      <th></th>\n",
       "      <th>Unnamed: 0</th>\n",
       "      <th>country</th>\n",
       "      <th>fatalities</th>\n",
       "      <th>latitude</th>\n",
       "      <th>longitude</th>\n",
       "      <th>country_original</th>\n",
       "      <th>country_code</th>\n",
       "      <th>country_name_iso2</th>\n",
       "    </tr>\n",
       "  </thead>\n",
       "  <tbody>\n",
       "    <tr>\n",
       "      <th>0</th>\n",
       "      <td>85</td>\n",
       "      <td>Iraq</td>\n",
       "      <td>56914</td>\n",
       "      <td>34.596934</td>\n",
       "      <td>43.679485</td>\n",
       "      <td>العراق</td>\n",
       "      <td>iq</td>\n",
       "      <td>Iraq</td>\n",
       "    </tr>\n",
       "    <tr>\n",
       "      <th>1</th>\n",
       "      <td>0</td>\n",
       "      <td>Afghanistan</td>\n",
       "      <td>26295</td>\n",
       "      <td>36.728591</td>\n",
       "      <td>68.868066</td>\n",
       "      <td>افغانستان</td>\n",
       "      <td>af</td>\n",
       "      <td>Afghanistan</td>\n",
       "    </tr>\n",
       "    <tr>\n",
       "      <th>2</th>\n",
       "      <td>135</td>\n",
       "      <td>Pakistan</td>\n",
       "      <td>20854</td>\n",
       "      <td>34.013923</td>\n",
       "      <td>71.536462</td>\n",
       "      <td>‏پاکستان‎</td>\n",
       "      <td>pk</td>\n",
       "      <td>Pakistan</td>\n",
       "    </tr>\n",
       "    <tr>\n",
       "      <th>3</th>\n",
       "      <td>81</td>\n",
       "      <td>India</td>\n",
       "      <td>17940</td>\n",
       "      <td>19.075984</td>\n",
       "      <td>72.877656</td>\n",
       "      <td>India</td>\n",
       "      <td>in</td>\n",
       "      <td>India</td>\n",
       "    </tr>\n",
       "    <tr>\n",
       "      <th>4</th>\n",
       "      <td>131</td>\n",
       "      <td>Nigeria</td>\n",
       "      <td>17297</td>\n",
       "      <td>12.372109</td>\n",
       "      <td>14.210440</td>\n",
       "      <td>Nigeria</td>\n",
       "      <td>ng</td>\n",
       "      <td>Nigeria</td>\n",
       "    </tr>\n",
       "  </tbody>\n",
       "</table>\n",
       "</div>"
      ],
      "text/plain": [
       "   Unnamed: 0      country  fatalities   latitude  longitude country_original  \\\n",
       "0          85         Iraq       56914  34.596934  43.679485           العراق   \n",
       "1           0  Afghanistan       26295  36.728591  68.868066        افغانستان   \n",
       "2         135     Pakistan       20854  34.013923  71.536462        ‏پاکستان‎   \n",
       "3          81        India       17940  19.075984  72.877656            India   \n",
       "4         131      Nigeria       17297  12.372109  14.210440          Nigeria   \n",
       "\n",
       "  country_code country_name_iso2  \n",
       "0           iq              Iraq  \n",
       "1           af       Afghanistan  \n",
       "2           pk          Pakistan  \n",
       "3           in             India  \n",
       "4           ng           Nigeria  "
      ]
     },
     "execution_count": 3,
     "metadata": {},
     "output_type": "execute_result"
    }
   ],
   "source": [
    "# display the first 5 rows of the dataset\n",
    "\n",
    "data.head()"
   ]
  },
  {
   "cell_type": "code",
   "execution_count": 4,
   "metadata": {},
   "outputs": [
    {
     "data": {
      "text/html": [
       "<div>\n",
       "<style scoped>\n",
       "    .dataframe tbody tr th:only-of-type {\n",
       "        vertical-align: middle;\n",
       "    }\n",
       "\n",
       "    .dataframe tbody tr th {\n",
       "        vertical-align: top;\n",
       "    }\n",
       "\n",
       "    .dataframe thead th {\n",
       "        text-align: right;\n",
       "    }\n",
       "</style>\n",
       "<table border=\"1\" class=\"dataframe\">\n",
       "  <thead>\n",
       "    <tr style=\"text-align: right;\">\n",
       "      <th></th>\n",
       "      <th>Unnamed: 0</th>\n",
       "      <th>country</th>\n",
       "      <th>fatalities</th>\n",
       "      <th>latitude</th>\n",
       "      <th>longitude</th>\n",
       "      <th>country_original</th>\n",
       "      <th>country_code</th>\n",
       "      <th>country_name_iso2</th>\n",
       "    </tr>\n",
       "  </thead>\n",
       "  <tbody>\n",
       "    <tr>\n",
       "      <th>70</th>\n",
       "      <td>23</td>\n",
       "      <td>Brazil</td>\n",
       "      <td>185</td>\n",
       "      <td>-22.908278</td>\n",
       "      <td>-43.197026</td>\n",
       "      <td>Brasil</td>\n",
       "      <td>br</td>\n",
       "      <td>Brazil</td>\n",
       "    </tr>\n",
       "    <tr>\n",
       "      <th>71</th>\n",
       "      <td>102</td>\n",
       "      <td>Liberia</td>\n",
       "      <td>177</td>\n",
       "      <td>5.880801</td>\n",
       "      <td>-10.046602</td>\n",
       "      <td>Liberia</td>\n",
       "      <td>lr</td>\n",
       "      <td>Liberia</td>\n",
       "    </tr>\n",
       "    <tr>\n",
       "      <th>72</th>\n",
       "      <td>145</td>\n",
       "      <td>Republic of the Congo</td>\n",
       "      <td>151</td>\n",
       "      <td>-4.361389</td>\n",
       "      <td>14.764444</td>\n",
       "      <td>République du Congo</td>\n",
       "      <td>cg</td>\n",
       "      <td>Congo</td>\n",
       "    </tr>\n",
       "    <tr>\n",
       "      <th>73</th>\n",
       "      <td>205</td>\n",
       "      <td>Zimbabwe</td>\n",
       "      <td>146</td>\n",
       "      <td>-16.646518</td>\n",
       "      <td>32.265389</td>\n",
       "      <td>Zimbabwe</td>\n",
       "      <td>zw</td>\n",
       "      <td>Zimbabwe</td>\n",
       "    </tr>\n",
       "    <tr>\n",
       "      <th>74</th>\n",
       "      <td>110</td>\n",
       "      <td>Malaysia</td>\n",
       "      <td>127</td>\n",
       "      <td>5.299445</td>\n",
       "      <td>100.460795</td>\n",
       "      <td>Malaysia</td>\n",
       "      <td>my</td>\n",
       "      <td>Malaysia</td>\n",
       "    </tr>\n",
       "  </tbody>\n",
       "</table>\n",
       "</div>"
      ],
      "text/plain": [
       "    Unnamed: 0                country  fatalities   latitude   longitude  \\\n",
       "70          23                 Brazil         185 -22.908278  -43.197026   \n",
       "71         102                Liberia         177   5.880801  -10.046602   \n",
       "72         145  Republic of the Congo         151  -4.361389   14.764444   \n",
       "73         205               Zimbabwe         146 -16.646518   32.265389   \n",
       "74         110               Malaysia         127   5.299445  100.460795   \n",
       "\n",
       "       country_original country_code country_name_iso2  \n",
       "70               Brasil           br            Brazil  \n",
       "71              Liberia           lr           Liberia  \n",
       "72  République du Congo           cg             Congo  \n",
       "73             Zimbabwe           zw          Zimbabwe  \n",
       "74             Malaysia           my          Malaysia  "
      ]
     },
     "execution_count": 4,
     "metadata": {},
     "output_type": "execute_result"
    }
   ],
   "source": [
    "# display the last 5 rows of the dataset\n",
    "\n",
    "data.tail()"
   ]
  },
  {
   "cell_type": "code",
   "execution_count": 5,
   "metadata": {},
   "outputs": [
    {
     "data": {
      "text/plain": [
       "Index(['Unnamed: 0', 'country', 'fatalities', 'latitude', 'longitude',\n",
       "       'country_original', 'country_code', 'country_name_iso2'],\n",
       "      dtype='object')"
      ]
     },
     "execution_count": 5,
     "metadata": {},
     "output_type": "execute_result"
    }
   ],
   "source": [
    "#names of all the columns in the dataset\n",
    "\n",
    "data.columns"
   ]
  },
  {
   "cell_type": "code",
   "execution_count": 6,
   "metadata": {},
   "outputs": [
    {
     "name": "stdout",
     "output_type": "stream",
     "text": [
      "<class 'pandas.core.frame.DataFrame'>\n",
      "RangeIndex: 75 entries, 0 to 74\n",
      "Data columns (total 8 columns):\n",
      " #   Column             Non-Null Count  Dtype  \n",
      "---  ------             --------------  -----  \n",
      " 0   Unnamed: 0         75 non-null     int64  \n",
      " 1   country            75 non-null     object \n",
      " 2   fatalities         75 non-null     int64  \n",
      " 3   latitude           75 non-null     float64\n",
      " 4   longitude          75 non-null     float64\n",
      " 5   country_original   75 non-null     object \n",
      " 6   country_code       75 non-null     object \n",
      " 7   country_name_iso2  75 non-null     object \n",
      "dtypes: float64(2), int64(2), object(4)\n",
      "memory usage: 3.6+ KB\n"
     ]
    }
   ],
   "source": [
    "# basic information about the dataset\n",
    "data.info()"
   ]
  },
  {
   "cell_type": "code",
   "execution_count": 8,
   "metadata": {},
   "outputs": [
    {
     "data": {
      "text/plain": [
       "(75, 8)"
      ]
     },
     "execution_count": 8,
     "metadata": {},
     "output_type": "execute_result"
    }
   ],
   "source": [
    "data.shape"
   ]
  },
  {
   "cell_type": "markdown",
   "metadata": {},
   "source": [
    "## EDA(Exploratory Data Analysis)"
   ]
  },
  {
   "cell_type": "code",
   "execution_count": 11,
   "metadata": {},
   "outputs": [
    {
     "data": {
      "text/plain": [
       "array(['Iraq', 'Afghanistan', 'Pakistan', 'India', 'Nigeria', 'Sri Lanka',\n",
       "       'Peru', 'El Salvador', 'Algeria', 'Syria', 'Philippines',\n",
       "       'Somalia', 'Yemen', 'Turkey', 'Guatemala', 'Burundi', 'Russia',\n",
       "       'Lebanon', 'Rwanda', 'United Kingdom', 'Sudan', 'Uganda',\n",
       "       'Democratic Republic of the Congo', 'Mozambique', 'South Africa',\n",
       "       'Thailand', 'Egypt', 'United States', 'Ukraine', 'Nepal',\n",
       "       'Cameroon', 'Kenya', 'Israel', 'Libya', 'Iran', 'Ethiopia',\n",
       "       'West Bank and Gaza Strip', 'South Sudan', 'Spain',\n",
       "       'Central African Republic', 'Niger', 'Bangladesh', 'Indonesia',\n",
       "       'Chad', 'Myanmar', 'China', 'Mali', 'Sierra Leone', 'Mexico',\n",
       "       'Cambodia', 'Argentina', 'Saudi Arabia', 'France', 'Italy',\n",
       "       'Canada', 'Haiti', 'Senegal', 'Tajikistan', 'Honduras', 'Georgia',\n",
       "       'Djibouti', 'Tunisia', 'Greece', 'Croatia', 'Ivory Coast',\n",
       "       'Namibia', 'Chile', 'Guinea', 'Rhodesia', 'Venezuela', 'Brazil',\n",
       "       'Liberia', 'Republic of the Congo', 'Zimbabwe', 'Malaysia'],\n",
       "      dtype=object)"
      ]
     },
     "execution_count": 11,
     "metadata": {},
     "output_type": "execute_result"
    }
   ],
   "source": [
    "data['country'].unique()"
   ]
  },
  {
   "cell_type": "markdown",
   "metadata": {},
   "source": [
    "* The above contains the list of all the countries that had a terrorism record"
   ]
  },
  {
   "cell_type": "code",
   "execution_count": 19,
   "metadata": {},
   "outputs": [
    {
     "data": {
      "text/plain": [
       "Text(0, 0.5, 'Index')"
      ]
     },
     "execution_count": 19,
     "metadata": {},
     "output_type": "execute_result"
    },
    {
     "data": {
      "image/png": "[encoded data removed]",
      "text/plain": [
       "<Figure size 432x288 with 1 Axes>"
      ]
     },
     "metadata": {},
     "output_type": "display_data"
    }
   ],
   "source": [
    "plt.style.use('fivethirtyeight')\n",
    "plt.plot(data['fatalities'])\n",
    "plt.title(\"Distribution of the number of fatalities\")\n",
    "plt.xlabel(\"Fatalities\")\n",
    "plt.ylabel(\"Index\")"
   ]
  },
  {
   "cell_type": "code",
   "execution_count": null,
   "metadata": {},
   "outputs": [],
   "source": []
  },
  {
   "cell_type": "code",
   "execution_count": null,
   "metadata": {},
   "outputs": [],
   "source": []
  }
 ],
 "metadata": {
  "kernelspec": {
   "display_name": "Python 3",
   "language": "python",
   "name": "python3"
  },
  "language_info": {
   "codemirror_mode": {
    "name": "ipython",
    "version": 3
   },
   "file_extension": ".py",
   "mimetype": "text/x-python",
   "name": "python",
   "nbconvert_exporter": "python",
   "pygments_lexer": "ipython3",
   "version": "3.8.5"
  }
 },
 "nbformat": 4,
 "nbformat_minor": 4
}
